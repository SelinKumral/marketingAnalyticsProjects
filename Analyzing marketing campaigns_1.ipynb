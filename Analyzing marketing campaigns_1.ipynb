{
 "cells": [
  {
   "cell_type": "markdown",
   "metadata": {},
   "source": [
    "# Analyzing Marketing Campaigns"
   ]
  },
  {
   "cell_type": "markdown",
   "metadata": {},
   "source": [
    "## 1. Importing Packages"
   ]
  },
  {
   "cell_type": "code",
   "execution_count": 1,
   "metadata": {},
   "outputs": [],
   "source": [
    "import numpy as np\n",
    "import pandas as pd\n",
    "import matplotlib.pyplot as plt\n",
    "import seaborn as sns"
   ]
  },
  {
   "cell_type": "markdown",
   "metadata": {},
   "source": [
    "## 2. Loading the dataset and taking a quick look"
   ]
  },
  {
   "cell_type": "code",
   "execution_count": 2,
   "metadata": {},
   "outputs": [],
   "source": [
    "marketing = pd.read_csv('marketing_ds_1.csv', parse_dates=['date_served',\n",
    "                                                      'date_subscribed', \n",
    "                                                      'date_canceled'])"
   ]
  },
  {
   "cell_type": "code",
   "execution_count": 3,
   "metadata": {},
   "outputs": [
    {
     "name": "stdout",
     "output_type": "stream",
     "text": [
      "<class 'pandas.core.frame.DataFrame'>\n",
      "RangeIndex: 10037 entries, 0 to 10036\n",
      "Data columns (total 12 columns):\n",
      " #   Column               Non-Null Count  Dtype         \n",
      "---  ------               --------------  -----         \n",
      " 0   user_id              10037 non-null  object        \n",
      " 1   date_served          10021 non-null  datetime64[ns]\n",
      " 2   marketing_channel    10022 non-null  object        \n",
      " 3   variant              10037 non-null  object        \n",
      " 4   converted            10022 non-null  object        \n",
      " 5   language_displayed   10037 non-null  object        \n",
      " 6   language_preferred   10037 non-null  object        \n",
      " 7   age_group            10037 non-null  object        \n",
      " 8   date_subscribed      1856 non-null   datetime64[ns]\n",
      " 9   date_canceled        577 non-null    datetime64[ns]\n",
      " 10  subscribing_channel  1856 non-null   object        \n",
      " 11  is_retained          1856 non-null   object        \n",
      "dtypes: datetime64[ns](3), object(9)\n",
      "memory usage: 941.1+ KB\n"
     ]
    }
   ],
   "source": [
    "marketing.info()"
   ]
  },
  {
   "cell_type": "markdown",
   "metadata": {},
   "source": [
    "## 3. Preprocessing before analysis"
   ]
  },
  {
   "cell_type": "code",
   "execution_count": 4,
   "metadata": {},
   "outputs": [],
   "source": [
    "# Type conversions\n",
    "# a new column for retention\n",
    "marketing[\"is_retained\"] = np.where(marketing[\"converted\"] == False, 0,\n",
    "                                    marketing[\"is_retained\"].values)\n",
    "\n",
    "marketing['converted'] = marketing[\"converted\"].astype(\"bool\")\n",
    "marketing['is_retained'] = marketing[\"is_retained\"].astype(\"bool\")\n",
    "\n",
    "# strings to numbers for better data storage\n",
    "marketing.groupby(\"subscribing_channel\")[\"subscribing_channel\"].count()\n",
    "\n",
    "channel_dict = {\"House Ads\": 1, \"Instagram\": 2, \"Facebook\": 3, \"Email\": 4, \"Push\": 5}\n",
    "marketing[\"channel_code\"] = marketing[\"subscribing_channel\"].map(channel_dict)\n",
    "\n",
    "# New column: which day of the week?\n",
    "marketing[\"DoW\"] = marketing[\"date_subscribed\"].dt.dayofweek"
   ]
  },
  {
   "cell_type": "markdown",
   "metadata": {},
   "source": [
    "## 4. Insights about customers and marketing assets"
   ]
  },
  {
   "cell_type": "markdown",
   "metadata": {},
   "source": [
    "### 4.1. How many users see marketing assets?\n",
    "This is crucial to understand how effective our marketing efforts have been over the past month."
   ]
  },
  {
   "cell_type": "code",
   "execution_count": 6,
   "metadata": {},
   "outputs": [
    {
     "data": {
      "image/png": "[encoded data removed]",
      "text/plain": [
       "<Figure size 432x288 with 1 Axes>"
      ]
     },
     "metadata": {
      "needs_background": "light"
     },
     "output_type": "display_data"
    }
   ],
   "source": [
    "daily_users = marketing.groupby(\"date_served\")[\"user_id\"].nunique()\n",
    "\n",
    "sns.lineplot(data = daily_users)\n",
    "plt.title('Daily number of users who see ads') \n",
    "plt.xlabel('Date')\n",
    "plt.ylabel('Number of users') \n",
    "plt.tick_params(axis=\"x\", labelsize=10)\n",
    "plt.xticks(rotation = 45)\n",
    "plt.show()"
   ]
  },
  {
   "cell_type": "markdown",
   "metadata": {},
   "source": [
    "### 4.2. Another insight \n",
    "... "
   ]
  },
  {
   "cell_type": "markdown",
   "metadata": {},
   "source": [
    "## 5. Marketing Metrics"
   ]
  },
  {
   "cell_type": "code",
   "execution_count": 8,
   "metadata": {},
   "outputs": [
    {
     "name": "stdout",
     "output_type": "stream",
     "text": [
      "Total conversion rate:  14.09 %\n",
      "Total retention rate:  67.57 %\n"
     ]
    }
   ],
   "source": [
    "# conversion rate calculation\n",
    "subscribers = marketing[marketing[\"converted\"] == 1].user_id.nunique()\n",
    "total = marketing.user_id.nunique()\n",
    "conv_rate = subscribers / total\n",
    "\n",
    "# retention rate calculation\n",
    "\n",
    "retained = marketing[marketing[\"is_retained\"] == 1].user_id.nunique()\n",
    "retention = retained / subscribers\n",
    "\n",
    "print(\"Total conversion rate: \", round(conv_rate*100, 2), \"%\")\n",
    "print(\"Total retention rate: \", round(retention*100, 2), \"%\")"
   ]
  },
  {
   "cell_type": "markdown",
   "metadata": {},
   "source": [
    "## 6.  Building functions for metrics "
   ]
  },
  {
   "cell_type": "code",
   "execution_count": 10,
   "metadata": {},
   "outputs": [],
   "source": [
    "### building a retention function\n",
    "\n",
    "def retention_rate(dataframe, column_names):\n",
    "    retained = dataframe[dataframe[\"is_retained\"] == True].\\\n",
    "        groupby(column_names)[\"user_id\"].nunique()\n",
    "        \n",
    "    converted = dataframe[dataframe[\"converted\"] == True].\\\n",
    "        groupby(column_names)[\"user_id\"].nunique()\n",
    "        \n",
    "    retention_rate = retained / converted\n",
    "    return retention_rate\n",
    "\n",
    "daily_retention = retention_rate(marketing, [\"date_served\", \"marketing_channel\"])\n",
    "daily_retention = pd.DataFrame(daily_retention.unstack(level = 1))\n",
    "\n",
    "\n",
    "### building a plotting function\n",
    "\n",
    "def plot_ret_rate(dataframe):\n",
    "    for column in dataframe:\n",
    "        plt.plot(dataframe.index, dataframe[column])\n",
    "        plt.title('Daily ' + column + ' retention rate\\n', size = 16)\n",
    "        plt.ylabel('Retention rate (%)', size = 14) \n",
    "        plt.xlabel('Date', size = 14)\n",
    "        plt.xticks(rotation= 45)\n",
    "        plt.show()\n",
    "\n",
    "### building conversion_rate function\n",
    "\n",
    "def conversion_rate(dataframe, column_names):\n",
    "    conversion = dataframe[dataframe[\"converted\"] == True].groupby(column_names)\\\n",
    "        [\"user_id\"].nunique()\n",
    "     \n",
    "    total = dataframe.groupby(column_names)[\"user_id\"].nunique()\n",
    "    \n",
    "    conversion_rate = conversion / total\n",
    "    return conversion_rate\n",
    "\n",
    "\n",
    "### building plot_conv_rate function   \n",
    "\n",
    "def plot_conv_rate(dataframe):\n",
    "    for column in dataframe:\n",
    "        plt.plot(dataframe.index, dataframe[column])\n",
    "        plt.title('Daily ' + column + ' conversion rate\\n', size = 16)\n",
    "        plt.ylabel('Conversion rate (%)', size = 14) \n",
    "        plt.xlabel('Date', size = 14)\n",
    "        plt.xticks(rotation= 45)\n",
    "        plt.show()"
   ]
  }
 ],
 "metadata": {
  "kernelspec": {
   "display_name": "Python 3",
   "language": "python",
   "name": "python3"
  },
  "language_info": {
   "codemirror_mode": {
    "name": "ipython",
    "version": 3
   },
   "file_extension": ".py",
   "mimetype": "text/x-python",
   "name": "python",
   "nbconvert_exporter": "python",
   "pygments_lexer": "ipython3",
   "version": "3.7.6"
  }
 },
 "nbformat": 4,
 "nbformat_minor": 4
}
